{
 "cells": [
  {
   "cell_type": "code",
   "execution_count": 1,
   "metadata": {},
   "outputs": [
    {
     "name": "stdout",
     "output_type": "stream",
     "text": [
      "Torch library imported\n"
     ]
    }
   ],
   "source": [
    "from __future__ import print_function\n",
    "\n",
    "import torch\n",
    "print(\"Torch library imported\")"
   ]
  },
  {
   "cell_type": "markdown",
   "metadata": {},
   "source": [
    "<h3>\n",
    "</br>\n",
    "float a; // This is called a scalar </br></br>\n",
    "\n",
    "float a[]; // This is called a vector </br>\n",
    "\n",
    "float a[][]; // This is called a matrix </br>\n",
    "\n",
    "float a[][][]; // This is a 3D tensor </br>\n",
    "\n",
    "float a[][][]… n-times … []; // This is an n-D tensor </br>\n",
    "</h3>"
   ]
  },
  {
   "cell_type": "code",
   "execution_count": 2,
   "metadata": {},
   "outputs": [
    {
     "name": "stdout",
     "output_type": "stream",
     "text": [
      "tensor([[4.3605e+27, 2.5226e-18, 8.2231e+32],\n",
      "        [1.8394e+25, 6.1963e-04, 1.0140e-08],\n",
      "        [2.4796e-12, 2.4754e-12, 7.8447e+17]])\n"
     ]
    }
   ],
   "source": [
    "## Basically empty matrix have values that are avaliable in the memory system\n",
    "## This is also known as uninitalized matrix\n",
    "x = torch.empty(3,3)\n",
    "print(x)"
   ]
  },
  {
   "cell_type": "code",
   "execution_count": 3,
   "metadata": {},
   "outputs": [
    {
     "name": "stdout",
     "output_type": "stream",
     "text": [
      "tensor([[0.1259, 0.1788, 0.4713],\n",
      "        [0.6061, 0.4046, 0.6296],\n",
      "        [0.6797, 0.7905, 0.3022]])\n"
     ]
    }
   ],
   "source": [
    "## randomly initalize matrix \n",
    "\n",
    "x = torch.rand(3,3)\n",
    "print(x)"
   ]
  },
  {
   "cell_type": "code",
   "execution_count": 8,
   "metadata": {},
   "outputs": [
    {
     "name": "stdout",
     "output_type": "stream",
     "text": [
      "tensor([[0., 0., 0.],\n",
      "        [0., 0., 0.],\n",
      "        [0., 0., 0.]])\n"
     ]
    }
   ],
   "source": [
    "## construct matrix with data type : float and initalize ZERO's\n",
    "x = torch.zeros(3,3,dtype=torch.float)\n",
    "print(x)"
   ]
  },
  {
   "cell_type": "code",
   "execution_count": 11,
   "metadata": {},
   "outputs": [
    {
     "name": "stdout",
     "output_type": "stream",
     "text": [
      "tensor([[1, 2, 3],\n",
      "        [4, 5, 6],\n",
      "        [7, 8, 9]])\n"
     ]
    }
   ],
   "source": [
    "## creating tensor directly from data\n",
    "\n",
    "## 3x3 tensor\n",
    "x = torch.tensor([[1,2,3],\n",
    "                  [4,5,6],\n",
    "                  [7,8,9]])\n",
    "\n",
    "print(x)"
   ]
  },
  {
   "cell_type": "code",
   "execution_count": 15,
   "metadata": {},
   "outputs": [
    {
     "name": "stdout",
     "output_type": "stream",
     "text": [
      "tensor([[1, 2, 3],\n",
      "        [4, 5, 6],\n",
      "        [7, 8, 9]])\n",
      "tensor([[-0.8072, -0.6608, -0.6356],\n",
      "        [ 0.0962, -1.0620, -0.0370],\n",
      "        [ 1.0109,  1.0991,  0.5939]])\n"
     ]
    }
   ],
   "source": [
    "## taking input from one tensor and forwarding it to another\n",
    "\n",
    "x = torch.tensor([[1,2,3],\n",
    "                  [4,5,6],\n",
    "                  [7,8,9]],dtype=torch.long)\n",
    "print(x)\n",
    "\n",
    "y = torch.randn_like(x,dtype= torch.float)\n",
    "print(y)"
   ]
  },
  {
   "cell_type": "code",
   "execution_count": 16,
   "metadata": {},
   "outputs": [
    {
     "data": {
      "text/plain": [
       "torch.Size([3, 3])"
      ]
     },
     "execution_count": 16,
     "metadata": {},
     "output_type": "execute_result"
    }
   ],
   "source": [
    "## size of tensor \n",
    "x.size()"
   ]
  },
  {
   "cell_type": "code",
   "execution_count": 21,
   "metadata": {},
   "outputs": [
    {
     "name": "stdout",
     "output_type": "stream",
     "text": [
      "Addition\n",
      "tensor([[1.6619, 0.6473, 0.7817],\n",
      "        [1.3700, 1.7865, 1.2841],\n",
      "        [0.3592, 0.9498, 1.1640]])\n",
      "Subtraction\n",
      "tensor([[ 0.2093,  0.3376, -0.7387],\n",
      "        [ 0.4275, -0.1068,  0.2746],\n",
      "        [-0.1136,  0.1218, -0.6699]])\n",
      "Multiplication\n",
      "tensor([[0.6795, 0.0763, 0.0163],\n",
      "        [0.4235, 0.7951, 0.3934],\n",
      "        [0.0290, 0.2218, 0.2266]])\n"
     ]
    }
   ],
   "source": [
    "## Operations \n",
    "\n",
    "## add\n",
    "x = torch.rand(3,3)\n",
    "y = torch.rand(3,3)\n",
    "print(\"Addition\")\n",
    "add = (x+y)\n",
    "print(add)\n",
    "\n",
    "## Subtraction\n",
    "print(\"Subtraction\")\n",
    "sub = (x-y)\n",
    "print(sub)\n",
    "\n",
    "## Multiplication\n",
    "print(\"Multiplication\")\n",
    "mult = (x*y)\n",
    "print(mult)\n"
   ]
  },
  {
   "cell_type": "code",
   "execution_count": 30,
   "metadata": {},
   "outputs": [
    {
     "name": "stdout",
     "output_type": "stream",
     "text": [
      "tensor([[0.8754, 0.4031, 0.1401],\n",
      "        [0.0424, 0.2539, 0.2214],\n",
      "        [0.1493, 0.2215, 0.2589]])\n",
      "torch.Size([3, 3])\n",
      "tensor([[0.8754],\n",
      "        [0.4031],\n",
      "        [0.1401],\n",
      "        [0.0424],\n",
      "        [0.2539],\n",
      "        [0.2214],\n",
      "        [0.1493],\n",
      "        [0.2215],\n",
      "        [0.2589]])\n",
      "torch.Size([9, 1])\n",
      "tensor([[0.8754, 0.4031, 0.1401, 0.0424, 0.2539, 0.2214, 0.1493, 0.2215, 0.2589]])\n",
      "torch.Size([1, 9])\n",
      "tensor([0.8754, 0.4031, 0.1401, 0.0424, 0.2539, 0.2214, 0.1493, 0.2215, 0.2589])\n",
      "torch.Size([9])\n"
     ]
    }
   ],
   "source": [
    "## Resizing tensors\n",
    "\n",
    "x = torch.rand(3,3,dtype=torch.float)\n",
    "print(x)\n",
    "print(x.size())\n",
    "## view function is use to resize the tensor\n",
    "\n",
    "## 9 row 1 col\n",
    "y = x.view(9,1)\n",
    "\n",
    "## 1 row 9 col\n",
    "z = x.view(1,9)\n",
    "\n",
    "\n",
    "## 1 column\n",
    "zz = x.view(9)\n",
    "\n",
    "print(y)\n",
    "print(y.size())\n",
    "print(z)\n",
    "print(z.size())\n",
    "print(zz)\n",
    "print(zz.size())"
   ]
  },
  {
   "cell_type": "code",
   "execution_count": 32,
   "metadata": {},
   "outputs": [
    {
     "name": "stdout",
     "output_type": "stream",
     "text": [
      "tensor([0.6254])\n",
      "0.6253655552864075\n"
     ]
    }
   ],
   "source": [
    "## To get value as python number\n",
    "## THIS ONLY WORKS FOR ONE ELEMENT\n",
    "x = torch.randn(1)\n",
    "print(x)\n",
    "print(x.item())"
   ]
  },
  {
   "cell_type": "code",
   "execution_count": 34,
   "metadata": {},
   "outputs": [
    {
     "name": "stdout",
     "output_type": "stream",
     "text": [
      "tensor([[1., 1.],\n",
      "        [1., 1.]])\n",
      "[[1. 1.]\n",
      " [1. 1.]]\n"
     ]
    }
   ],
   "source": [
    "## tensor to numpy \n",
    "x = torch.ones(2,2)\n",
    "print(x)\n",
    "\n",
    "y = x.numpy()\n",
    "print(y)"
   ]
  },
  {
   "cell_type": "code",
   "execution_count": 42,
   "metadata": {},
   "outputs": [
    {
     "name": "stdout",
     "output_type": "stream",
     "text": [
      "[[1. 1.]\n",
      " [1. 1.]]\n",
      "tensor([[1., 1.],\n",
      "        [1., 1.]], dtype=torch.float64)\n"
     ]
    }
   ],
   "source": [
    "## numpy to tensor\n",
    "import numpy as np\n",
    "x = np.ones([2,2],dtype=float)\n",
    "print(x)\n",
    "\n",
    "y = torch.from_numpy(x)\n",
    "print(y)"
   ]
  },
  {
   "cell_type": "code",
   "execution_count": 46,
   "metadata": {},
   "outputs": [
    {
     "name": "stdout",
     "output_type": "stream",
     "text": [
      "tensor([[1., 1.],\n",
      "        [1., 1.]], device='cuda:0')\n",
      "tensor([[1., 1.],\n",
      "        [1., 1.]], device='cuda:0')\n",
      "tensor([[2., 2.],\n",
      "        [2., 2.]], device='cuda:0')\n"
     ]
    }
   ],
   "source": [
    "## CUDA TENSORS\n",
    "\n",
    "if torch.cuda.is_available():\n",
    "    device = torch.device(\"cuda\")\n",
    "    x = torch.ones(2,2,device=device)\n",
    "    print(x)\n",
    "    y = x.to(device) # or \"cuda\"\n",
    "    print(y)\n",
    "    z = x+y\n",
    "    print(z)"
   ]
  },
  {
   "cell_type": "code",
   "execution_count": null,
   "metadata": {},
   "outputs": [],
   "source": []
  }
 ],
 "metadata": {
  "kernelspec": {
   "display_name": "Python 3",
   "language": "python",
   "name": "python3"
  },
  "language_info": {
   "codemirror_mode": {
    "name": "ipython",
    "version": 3
   },
   "file_extension": ".py",
   "mimetype": "text/x-python",
   "name": "python",
   "nbconvert_exporter": "python",
   "pygments_lexer": "ipython3",
   "version": "3.7.4"
  }
 },
 "nbformat": 4,
 "nbformat_minor": 4
}
